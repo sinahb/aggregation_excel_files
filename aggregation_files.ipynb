{
 "cells": [
  {
   "cell_type": "markdown",
   "id": "344e7c50-c4a8-4e5e-9471-14c2e8a58d25",
   "metadata": {},
   "source": [
    "# تجمیع فایل های اکسل"
   ]
  },
  {
   "cell_type": "code",
   "execution_count": null,
   "id": "0d7621dc-71a0-4649-b2d3-b275932f7036",
   "metadata": {},
   "outputs": [],
   "source": [
    "import pandas as pd\n",
    "import os\n",
    "\n",
    "# مسیر فولدر حاوی فایل‌های اکسل\n",
    "folder_path = input(\"مسیر فولدر حاوی فایل‌های اکسل را وارد کنید: \")\n",
    "\n",
    "# لیست تمام فایل‌های اکسل در فولدر را بدست می‌آوریم\n",
    "excel_files = [file for file in os.listdir(folder_path) if file.endswith('.xlsx')]\n",
    "\n",
    "# ایجاد یک فایل اکسل جدید برای ذخیره داده‌ها\n",
    "output_file_path = 'd://merged_file.xlsx'\n",
    "with pd.ExcelWriter(output_file_path) as writer:\n",
    "    for file in excel_files:\n",
    "        file_path = os.path.join(folder_path, file)\n",
    "        # خواندن هر فایل اکسل و اضافه کردن آن به یک شیت جدید در فایل اکسل نهایی\n",
    "        data = pd.read_excel(file_path)\n",
    "        # استخراج نام فایل بدون پسوند و استفاده از آن به عنوان نام شیت\n",
    "        sheet_name = os.path.splitext(file)[0]\n",
    "        data.to_excel(writer, sheet_name=sheet_name, index=False)\n",
    "\n",
    "print(\"تمام فایل‌های ورودی در یک فایل اکسل با شیت‌های مختلف ذخیره شد.\")\n"
   ]
  }
 ],
 "metadata": {
  "kernelspec": {
   "display_name": "Python 3 (ipykernel)",
   "language": "python",
   "name": "python3"
  },
  "language_info": {
   "codemirror_mode": {
    "name": "ipython",
    "version": 3
   },
   "file_extension": ".py",
   "mimetype": "text/x-python",
   "name": "python",
   "nbconvert_exporter": "python",
   "pygments_lexer": "ipython3",
   "version": "3.9.0"
  }
 },
 "nbformat": 4,
 "nbformat_minor": 5
}
